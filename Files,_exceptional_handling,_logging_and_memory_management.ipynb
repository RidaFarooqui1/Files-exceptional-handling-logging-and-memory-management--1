{
  "nbformat": 4,
  "nbformat_minor": 0,
  "metadata": {
    "colab": {
      "provenance": []
    },
    "kernelspec": {
      "name": "python3",
      "display_name": "Python 3"
    },
    "language_info": {
      "name": "python"
    }
  },
  "cells": [
    {
      "cell_type": "markdown",
      "source": [
        "# 1. What is the difference between interpreted and compiled languages?\n",
        "\n",
        "Ans->\n",
        "Compiled languages translate the entire program into machine code before execution, while interpreted languages translate the code line by line during execution."
      ],
      "metadata": {
        "id": "L2eXM2xwvh22"
      }
    },
    {
      "cell_type": "markdown",
      "source": [
        "# 2.What is exception handling in Python?\n",
        "\n",
        "Ans->\n",
        "Exception handling in Python is a mechanism to gracefully manage errors that occur during the execution of a program"
      ],
      "metadata": {
        "id": "TGsBsgP_yiuZ"
      }
    },
    {
      "cell_type": "markdown",
      "source": [
        "# 3.What is the purpose of the finally block in exception handling?\n",
        "\n",
        "Ans->\n",
        "The purpose of the finally block in exception handling is to ensure that certain code, such as cleanup operations or resource releases, executes regardless of whether an exception is thrown or caught in the try block."
      ],
      "metadata": {
        "id": "GPfq4a_6yijp"
      }
    },
    {
      "cell_type": "markdown",
      "source": [
        "# 4.What is logging in Python?\n",
        "\n",
        "Ans->\n",
        "The purpose of the finally block in exception handling is to ensure that certain code, such as cleanup operations or resource releases, executes regardless of whether an exception is thrown or caught in the try block.\n"
      ],
      "metadata": {
        "id": "Ds0sujr_yidF"
      }
    },
    {
      "cell_type": "markdown",
      "source": [
        "# 5.What is the significance of the __del__ method in Python?\n",
        "\n",
        "Ans->The __del__ method in Python, often referred to as a destructor, defines actions to be performed when an object is garbage collected."
      ],
      "metadata": {
        "id": "dMvtYsZ_yiVG"
      }
    },
    {
      "cell_type": "markdown",
      "source": [
        "# 6.What is the difference between import and from ... import in Python?\n",
        "\n",
        "Ans->\n",
        "\n",
        "* import module_name: This statement imports the entire module. To access items (functions, classes, variables) within the module, you need to use the module name as a prefix.\n",
        "\n",
        "* from module_name import item_name: This statement imports specific items directly into the current namespace. You can then use these items without the module name prefix."
      ],
      "metadata": {
        "id": "zbmAaE3dyiNv"
      }
    },
    {
      "cell_type": "markdown",
      "source": [
        "# 7. How can you handle multiple exceptions in Python?\n",
        "\n",
        "Ans->\n",
        "In Python, multiple exceptions can be handled using several approaches:\n",
        "\n",
        "* Using separate except blocks\n",
        "* Using a tuple of exceptions\n",
        "* Using a parent exception class\n",
        "* Using Exception"
      ],
      "metadata": {
        "id": "hsF0wy3qyiGZ"
      }
    },
    {
      "cell_type": "markdown",
      "source": [
        "# 8.What is the purpose of the with statement when handling files in Python?\n",
        "\n",
        "Ans->\n",
        "The with statement in Python serves to streamline resource management, particularly when working with files."
      ],
      "metadata": {
        "id": "_F94dco7yh-x"
      }
    },
    {
      "cell_type": "markdown",
      "source": [
        "# 9.What is the difference between multithreading and multiprocessing?\n",
        "\n",
        "\n",
        "Ans->\n",
        "Multithreading creates multiple threads within a single process, allowing for concurrent execution within that process, while multiprocessing creates multiple processes, each with its own resources, enabling parallel execution across multiple processors.\n"
      ],
      "metadata": {
        "id": "kyCvZJjgyh3S"
      }
    },
    {
      "cell_type": "markdown",
      "source": [
        "# 10.What are the advantages of using logging in a program?\n",
        "\n",
        "Ans->\n",
        "Logging offers significant advantages in software development, including improved debugging, easier troubleshooting, enhanced system observability, and better communication between developers and administrators"
      ],
      "metadata": {
        "id": "TXzqtYIRyhvJ"
      }
    },
    {
      "cell_type": "markdown",
      "source": [
        "# 11.What is memory management in Python?\n",
        "\n",
        "Ans->\n",
        "Memory management in Python involves the allocation and deallocation of memory resources."
      ],
      "metadata": {
        "id": "ZdIqRWJryhml"
      }
    },
    {
      "cell_type": "markdown",
      "source": [
        "# 12. What are the basic steps involved in exception handling in Python?\n",
        "\n",
        "Ans->\n",
        "The process generally follows these steps:\n",
        "\n",
        "* Try Block\n",
        "* Except Block(s)\n",
        "* Else Block (Optional)\n",
        "* Finally Block (Optional)\n",
        "* Raise Exceptions (Optional)"
      ],
      "metadata": {
        "id": "125pBsVTyhe1"
      }
    },
    {
      "cell_type": "markdown",
      "source": [
        "# 13.Why is memory management important in Python?\n",
        "\n",
        "Ans->\n",
        "Memory management is important in Python because it directly impacts the efficiency, performance, and stability of programs."
      ],
      "metadata": {
        "id": "q0tSjFQSyhXa"
      }
    },
    {
      "cell_type": "markdown",
      "source": [
        "# 14.What is the role of try and except in exception handling?\n",
        "\n",
        "Ans->\n",
        "n exception handling, try and except blocks work together to gracefully handle errors or exceptions that may occur during code execution."
      ],
      "metadata": {
        "id": "uvbeewTRyhPx"
      }
    },
    {
      "cell_type": "markdown",
      "source": [
        "# 15.How does Python's garbage collection system work?\n",
        "\n",
        "Ans->\n",
        "Python uses a hybrid approach to garbage collection: reference counting and generational garbage collection. Reference counting efficiently handles most cases where an object's reference count reaches zero, indicating no more active references."
      ],
      "metadata": {
        "id": "aAfRtyrzyhIH"
      }
    },
    {
      "cell_type": "markdown",
      "source": [
        "# 16. What is the purpose of the else block in exception handling?\n",
        "\n",
        "Ans->\n",
        "The else block in exception handling, often used in try...except...else structures, executes only when no exceptions are raised within the try block. It provides a way to execute code that's intended to run when the try block executes successfully, effectively separating normal execution from exception handling."
      ],
      "metadata": {
        "id": "uHJFuJLWyhAz"
      }
    },
    {
      "cell_type": "markdown",
      "source": [
        "# 17.What are the common logging levels in Python?\n",
        "\n",
        "Ans->\n",
        "hese levels, in ascending order of severity, are:\n",
        "\n",
        "* DEBUG (10): Detailed information, typically used for diagnosing problems.\n",
        "* INFO (20): General information about the program's execution, confirming that things are working as expected.\n",
        "* WARNING (30): Indicates a potential problem or unexpected event that doesn't necessarily halt execution.\n",
        "* ERROR (40): Signals a significant problem that prevents a specific function or operation from completing.\n",
        "* CRITICAL (50): Denotes a severe error that may cause the program to terminate."
      ],
      "metadata": {
        "id": "TtcNTGrNyg4z"
      }
    },
    {
      "cell_type": "markdown",
      "source": [
        "# 18.What is the difference between os.fork() and multiprocessing in Python?\n",
        "\n",
        "Ans->\n",
        "\n",
        "os.fork():\n",
        "* It is a low-level system call that creates a new process by duplicating the existing one.\n",
        "* The child process is an exact copy of the parent, including memory space, file descriptors, and other attributes.\n",
        "* It is available only on Unix-like systems.\n",
        "\n",
        "multiprocessing:\n",
        "\n",
        "* It is a higher-level module that provides a more user-friendly interface for creating and managing processes.\n",
        "* It offers different start methods, including \"fork,\" \"spawn,\" and \"forkserver,\" providing more flexibility and portability.\n",
        "* The \"spawn\" method, which creates a fresh process without inheriting the parent's state, is the default on Windows and macOS, ensuring cross-platform compatibility."
      ],
      "metadata": {
        "id": "5C_F2Kgsygxz"
      }
    },
    {
      "cell_type": "markdown",
      "source": [
        "# 19.What is the importance of closing a file in Python?\n",
        "\n",
        "Ans->\n",
        "Closing files in Python is an essential practice that helps maintain data integrity, prevent resource leaks, and ensure the reliability of your applications."
      ],
      "metadata": {
        "id": "crSJlqyvygsn"
      }
    },
    {
      "cell_type": "markdown",
      "source": [
        "# 20.What is the difference between file.read() and file.readline() in Python?\n",
        "\n",
        "Ans->\n",
        "\n",
        "* file.read():\n",
        "This method reads the entire file content as a single string. If a size argument is provided (e.g., file.read(size)), it reads at most size bytes from the file. It's suitable for reading small to medium-sized files entirely into memory.\n",
        "\n",
        "* file.readline():\n",
        "This method reads a single line from the file, including the newline character (\\n) at the end of the line. Each subsequent call to readline() will read the next line in the file. It is efficient for processing large files line by line without loading the entire file into memory."
      ],
      "metadata": {
        "id": "5COQZyZeygjv"
      }
    },
    {
      "cell_type": "markdown",
      "source": [
        "# 21.What is the logging module in Python used for?\n",
        "\n",
        "Ans->\n",
        "The logging module in Python is used for recording events and debugging issues during application execution."
      ],
      "metadata": {
        "id": "ZZ9FdzgGygfv"
      }
    },
    {
      "cell_type": "markdown",
      "source": [
        "# 22.What is the os module in Python used for in file handling?\n",
        "\n",
        "Ans->\n",
        "Python has a built-in os module with methods for interacting with the operating system, like creating files and directories, management of files and directories, input, output, environment variables, process management, etc."
      ],
      "metadata": {
        "id": "070ltMIqygR3"
      }
    },
    {
      "cell_type": "markdown",
      "source": [
        "# 23. What are the challenges associated with memory management in Python?\n",
        "\n",
        "Ans->\n",
        "Here are the challenges associated with memory management in Python:\n",
        "\n",
        "* Automatic Garbage Collection Limitations\n",
        "* Memory Leaks\n",
        "* Fragmentation\n",
        "* Internal Fragmentation\n",
        "* Memory Overhead\n",
        "* Circular References\n",
        "* Memory Errors\n",
        "* Limited Manual Control\n",
        "* Non-deterministic Allocation\n",
        "* Mutability and Object Creation"
      ],
      "metadata": {
        "id": "7OXX5ge0ygJc"
      }
    },
    {
      "cell_type": "markdown",
      "source": [
        "# 24.  How do you raise an exception manually in Python?\n",
        "\n",
        "Ans->\n",
        "To raise an exception manually in Python, the raise keyword is used, followed by the exception class or instance that is intended to be raised. When an exception is raised, normal program execution halts, and Python searches for an appropriate exception handler (try-except block) to manage the exception."
      ],
      "metadata": {
        "id": "QMHBZrz3ygBr"
      }
    },
    {
      "cell_type": "markdown",
      "source": [
        "# 25.Why is it important to use multithreading in certain applications?\n",
        "\n",
        "Ans->\n",
        "Multithreading is important in applications that benefit from concurrent execution of tasks, improved responsiveness, and efficient resource utilization."
      ],
      "metadata": {
        "id": "UwT6e7wnyf5b"
      }
    },
    {
      "cell_type": "markdown",
      "source": [
        "#Practical Questions"
      ],
      "metadata": {
        "id": "fZDxEYRDyfyz"
      }
    },
    {
      "cell_type": "markdown",
      "source": [
        "# 1.How can you open a file for writing in Python and write a string to it?\n",
        "\n",
        "\n",
        "\n"
      ],
      "metadata": {
        "id": "RLTsBysOyksk"
      }
    },
    {
      "cell_type": "code",
      "source": [
        "file_path = \"my_file.txt\"\n",
        "text_to_write = \"Hello, world!\"\n",
        "\n",
        "file = open(file_path, \"w\")\n",
        "file.write(text_to_write)\n",
        "file.close()\n",
        "\n",
        "print(f\"The string '{text_to_write}' was written to the file '{file_path}'.\")"
      ],
      "metadata": {
        "colab": {
          "base_uri": "https://localhost:8080/"
        },
        "id": "4OksYD9odXec",
        "outputId": "b369bf6a-f9bd-4487-c4fa-e73a16a7b380"
      },
      "execution_count": 3,
      "outputs": [
        {
          "output_type": "stream",
          "name": "stdout",
          "text": [
            "The string 'Hello, world!' was written to the file 'my_file.txt'.\n"
          ]
        }
      ]
    },
    {
      "cell_type": "markdown",
      "source": [
        "# 2.Write a Python program to read the contents of a file and print each line"
      ],
      "metadata": {
        "id": "yNmCYwKjvhwK"
      }
    },
    {
      "cell_type": "code",
      "source": [
        "def read_and_print_file(file_path):\n",
        "    \"\"\"\n",
        "    Reads the contents of a file and prints each line.\n",
        "\n",
        "    Args:\n",
        "        file_path (str): The path to the file.\n",
        "    \"\"\"\n",
        "    try:\n",
        "        with open(file_path, 'r') as file:\n",
        "            for line in file:\n",
        "                print(line, end='')\n",
        "    except FileNotFoundError:\n",
        "        print(f\"Error: File not found at '{file_path}'\")\n",
        "    except Exception as e:\n",
        "        print(f\"An error occurred: {e}\")\n",
        "\n",
        "# Example usage:\n",
        "file_path = \"my_text_file.txt\"  # Replace with the actual path to your file\n",
        "read_and_print_file(file_path)"
      ],
      "metadata": {
        "colab": {
          "base_uri": "https://localhost:8080/"
        },
        "id": "6fF-vtM5dX_C",
        "outputId": "2180f2b6-820e-410a-876d-e40e50c4f987"
      },
      "execution_count": 4,
      "outputs": [
        {
          "output_type": "stream",
          "name": "stdout",
          "text": [
            "Error: File not found at 'my_text_file.txt'\n"
          ]
        }
      ]
    },
    {
      "cell_type": "markdown",
      "source": [
        "# 3.How would you handle a case where the file doesn't exist while trying to open it for reading?"
      ],
      "metadata": {
        "id": "qt-LgWUgvhou"
      }
    },
    {
      "cell_type": "code",
      "source": [
        "try:\n",
        "    with open(\"abc.txt\", \"r\") as file:\n",
        "        data = file.read()\n",
        "except FileNotFoundError:\n",
        "    print(\"Not found\")"
      ],
      "metadata": {
        "colab": {
          "base_uri": "https://localhost:8080/"
        },
        "id": "P22p36ptdZUq",
        "outputId": "ba6e82d1-021a-4db9-8af3-e3799704c352"
      },
      "execution_count": 5,
      "outputs": [
        {
          "output_type": "stream",
          "name": "stdout",
          "text": [
            "Not found\n"
          ]
        }
      ]
    },
    {
      "cell_type": "markdown",
      "source": [
        "#4.Write a Python script that reads from one file and writes its content to another file"
      ],
      "metadata": {
        "id": "oJlSicMtvhh2"
      }
    },
    {
      "cell_type": "code",
      "source": [
        "def copy_file_content(source_file, destination_file):\n",
        "    \"\"\"\n",
        "    Copies the content of the source file to the destination file.\n",
        "\n",
        "    Args:\n",
        "        source_file (str): The path to the source file.\n",
        "        destination_file (str): The path to the destination file.\n",
        "    \"\"\"\n",
        "    try:\n",
        "        with open(source_file, 'r') as file_in, open(destination_file, 'w') as file_out:\n",
        "            for line in file_in:\n",
        "                file_out.write(line)\n",
        "        print(f\"Content of '{source_file}' successfully copied to '{destination_file}'\")\n",
        "    except FileNotFoundError:\n",
        "        print(f\"Error: File '{source_file}' not found.\")\n",
        "    except Exception as e:\n",
        "        print(f\"An error occurred: {e}\")\n",
        "\n",
        "if __name__ == \"__main__\":\n",
        "    source_file_path = \"source.txt\"\n",
        "    destination_file_path = \"destination.txt\"\n",
        "\n",
        "    # Create a dummy source file for testing\n",
        "    with open(source_file_path, 'w') as f:\n",
        "        f.write(\"This is the content of the source file.\\n\")\n",
        "        f.write(\"Another line of content.\\n\")\n",
        "\n",
        "    copy_file_content(source_file_path, destination_file_path)"
      ],
      "metadata": {
        "colab": {
          "base_uri": "https://localhost:8080/"
        },
        "id": "huJTbsW9daZQ",
        "outputId": "323f60a4-6dbc-47d6-da99-40805646db22"
      },
      "execution_count": 6,
      "outputs": [
        {
          "output_type": "stream",
          "name": "stdout",
          "text": [
            "Content of 'source.txt' successfully copied to 'destination.txt'\n"
          ]
        }
      ]
    },
    {
      "cell_type": "markdown",
      "source": [
        "#5.How would you catch and handle division by zero error in Python"
      ],
      "metadata": {
        "id": "bLWYag8Vvham"
      }
    },
    {
      "cell_type": "code",
      "source": [
        "\n",
        "numerator = 10\n",
        "denominator = 0\n",
        "\n",
        "if denominator == 0:\n",
        "    print(\"Error: Cannot divide by zero\")\n",
        "else:\n",
        "    result = numerator / denominator\n",
        "    print(\"Result:\", result)"
      ],
      "metadata": {
        "colab": {
          "base_uri": "https://localhost:8080/"
        },
        "id": "O9C-z9oZdax0",
        "outputId": "75d36fc8-7ec0-4319-ec15-d5f3161e6636"
      },
      "execution_count": 9,
      "outputs": [
        {
          "output_type": "stream",
          "name": "stdout",
          "text": [
            "Error: Cannot divide by zero\n"
          ]
        }
      ]
    },
    {
      "cell_type": "markdown",
      "source": [
        "# 6.Write a Python program that logs an error message to a log file when a division by zero exception occurs"
      ],
      "metadata": {
        "id": "kYFzmblgvhUS"
      }
    },
    {
      "cell_type": "code",
      "source": [
        "import logging\n",
        "\n",
        "\n",
        "logging.basicConfig(filename='error.log', level=logging.ERROR,\n",
        "                    format='%(asctime)s - %(levelname)s - %(message)s')\n",
        "\n",
        "def divide(numerator, denominator):\n",
        "    \"\"\"Divides two numbers and logs an error if division by zero occurs.\"\"\"\n",
        "    try:\n",
        "        result = numerator / denominator\n",
        "        return result\n",
        "    except ZeroDivisionError:\n",
        "        logging.error(\"Division by zero attempted.\")\n",
        "        return None\n",
        "\n",
        "\n",
        "numerator = 10\n",
        "denominator = 0\n",
        "\n",
        "result = divide(numerator, denominator)\n",
        "\n",
        "if result is None:\n",
        "    print(\"An error occurred. Check error.log for details.\")\n",
        "else:\n",
        "    print(f\"The result of the division is: {result}\")\n",
        "\n",
        "numerator = 10\n",
        "denominator = 2\n",
        "\n",
        "result = divide(numerator, denominator)\n",
        "\n",
        "if result is None:\n",
        "    print(\"An error occurred. Check error.log for details.\")\n",
        "else:\n",
        "    print(f\"The result of the division is: {result}\")"
      ],
      "metadata": {
        "colab": {
          "base_uri": "https://localhost:8080/"
        },
        "id": "r4pqpJ4SdbNM",
        "outputId": "b50f0b6a-1ec0-4661-a73e-de82d60ca68d"
      },
      "execution_count": 10,
      "outputs": [
        {
          "output_type": "stream",
          "name": "stderr",
          "text": [
            "ERROR:root:Division by zero attempted.\n"
          ]
        },
        {
          "output_type": "stream",
          "name": "stdout",
          "text": [
            "An error occurred. Check error.log for details.\n",
            "The result of the division is: 5.0\n"
          ]
        }
      ]
    },
    {
      "cell_type": "markdown",
      "source": [
        "# 7.How do you log information at different levels (INFO, ERROR, WARNING) in Python using the logging module"
      ],
      "metadata": {
        "id": "qHxttrttvhL-"
      }
    },
    {
      "cell_type": "code",
      "source": [
        "    import logging\n",
        "\n",
        "    logging.basicConfig(level=logging.INFO)\n",
        "\n",
        "    logging.debug(\"This is a debug message\")\n",
        "    logging.info(\"This is an info message\")\n",
        "    logging.warning(\"This is a warning message\")\n",
        "    logging.error(\"This is an error message\")\n",
        "    logging.critical(\"This is a critical message\")\n",
        "\n",
        "    logging.basicConfig(level=logging.INFO, format='%(asctime)s - %(levelname)s - %(message)s')\n",
        "\n",
        "    logging.basicConfig(filename='app.log', level=logging.INFO, format='%(asctime)s - %(levelname)s - %(message)s')\n",
        "\n",
        "    logger = logging.getLogger(__name__)\n",
        "    logger.setLevel(logging.DEBUG)\n",
        "\n",
        "    handler = logging.StreamHandler()\n",
        "    formatter = logging.Formatter('%(asctime)s - %(levelname)s - %(name)s - %(message)s')\n",
        "    handler.setFormatter(formatter)\n",
        "    logger.addHandler(handler)\n",
        "\n",
        "\n",
        "    logger.debug('Detailed debug information')\n",
        "    logger.info('Informational message')\n",
        "    logger.warning('Something unexpected happened')\n",
        "    logger.error('A problem occurred')\n",
        "    logger.critical('The application might not be able to continue running')"
      ],
      "metadata": {
        "colab": {
          "base_uri": "https://localhost:8080/"
        },
        "id": "VlqSmlk6dbmE",
        "outputId": "5d02821d-7f81-4001-8c60-b46db5fe6e29"
      },
      "execution_count": 12,
      "outputs": [
        {
          "output_type": "stream",
          "name": "stderr",
          "text": [
            "WARNING:root:This is a warning message\n",
            "ERROR:root:This is an error message\n",
            "CRITICAL:root:This is a critical message\n",
            "2025-05-15 10:31:14,880 - DEBUG - __main__ - Detailed debug information\n",
            "DEBUG:__main__:Detailed debug information\n",
            "2025-05-15 10:31:14,884 - INFO - __main__ - Informational message\n",
            "INFO:__main__:Informational message\n",
            "2025-05-15 10:31:14,887 - WARNING - __main__ - Something unexpected happened\n",
            "WARNING:__main__:Something unexpected happened\n",
            "2025-05-15 10:31:14,889 - ERROR - __main__ - A problem occurred\n",
            "ERROR:__main__:A problem occurred\n",
            "2025-05-15 10:31:14,890 - CRITICAL - __main__ - The application might not be able to continue running\n",
            "CRITICAL:__main__:The application might not be able to continue running\n"
          ]
        }
      ]
    },
    {
      "cell_type": "markdown",
      "source": [
        "# 8.Write a program to handle a file opening error using exception handling"
      ],
      "metadata": {
        "id": "ShN9RrQ-vhEy"
      }
    },
    {
      "cell_type": "code",
      "source": [
        "def open_file_safely(filename):\n",
        "    try:\n",
        "        file = open(filename, 'r')\n",
        "        content = file.read()\n",
        "        print(\"File content:\")\n",
        "        print(content)\n",
        "        file.close()\n",
        "    except FileNotFoundError:\n",
        "        print(f\"Error: The file '{filename}' was not found.\")\n",
        "    except Exception as e:\n",
        "        print(f\"An unexpected error occurred: {e}\")\n",
        "    finally:\n",
        "        print(\"File operation attempt completed.\")\n",
        "\n",
        "file_name = \"example.txt\"\n",
        "open_file_safely(file_name)\n",
        "\n",
        "file_name = \"nonexistent_file.txt\"\n",
        "open_file_safely(file_name)"
      ],
      "metadata": {
        "colab": {
          "base_uri": "https://localhost:8080/"
        },
        "id": "il4VaMppdcI-",
        "outputId": "cf13b026-4ec7-436a-9798-053902bebcf4"
      },
      "execution_count": 13,
      "outputs": [
        {
          "output_type": "stream",
          "name": "stdout",
          "text": [
            "Error: The file 'example.txt' was not found.\n",
            "File operation attempt completed.\n",
            "Error: The file 'nonexistent_file.txt' was not found.\n",
            "File operation attempt completed.\n"
          ]
        }
      ]
    },
    {
      "cell_type": "markdown",
      "source": [
        "# 9.How can you read a file line by line and store its content in a list in Python"
      ],
      "metadata": {
        "id": "-EoAD8TUvg9m"
      }
    },
    {
      "cell_type": "code",
      "source": [
        "def file_to_list(file_path):\n",
        "    \"\"\"Reads a file line by line and stores the content in a list.\n",
        "\n",
        "    Args:\n",
        "        file_path: The path to the file.\n",
        "\n",
        "    Returns:\n",
        "        A list where each element is a line from the file, or None if an error occurs.\n",
        "    \"\"\"\n",
        "    try:\n",
        "        with open(file_path, 'r') as file:\n",
        "            lines = file.read().splitlines()\n",
        "        return lines\n",
        "    except FileNotFoundError:\n",
        "        print(f\"Error: File not found at path: {file_path}\")\n",
        "        return None\n",
        "    except Exception as e:\n",
        "        print(f\"An error occurred: {e}\")\n",
        "        return None"
      ],
      "metadata": {
        "id": "-XvrWUWGdcoK"
      },
      "execution_count": 14,
      "outputs": []
    },
    {
      "cell_type": "markdown",
      "source": [
        "# 10. How can you append data to an existing file in Python"
      ],
      "metadata": {
        "id": "6Hx33YOlvg2G"
      }
    },
    {
      "cell_type": "code",
      "source": [
        "file_path = 'example.txt'\n",
        "data_to_append = \"This is the new content to be added.\\n\"\n",
        "\n",
        "with open(file_path, 'a') as file:\n",
        "    file.write(data_to_append)"
      ],
      "metadata": {
        "id": "mkvpx5XAdc3T"
      },
      "execution_count": 15,
      "outputs": []
    },
    {
      "cell_type": "markdown",
      "source": [
        "# 11.Write a Python program that uses a try-except block to handle an error when attempting to access a dictionary key that doesn't exist"
      ],
      "metadata": {
        "id": "MBbVfTmfvgu-"
      }
    },
    {
      "cell_type": "code",
      "source": [
        "my_dict = {\"apple\": 1, \"banana\": 2, \"cherry\": 3}\n",
        "\n",
        "try:\n",
        "    value = my_dict[\"date\"]\n",
        "    print(value)\n",
        "except KeyError:\n",
        "    print(\"Error: The key 'date' does not exist in the dictionary.\")"
      ],
      "metadata": {
        "id": "I71S8sMTdjCd"
      },
      "execution_count": null,
      "outputs": []
    },
    {
      "cell_type": "markdown",
      "source": [
        "# 12.Write a program that demonstrates using multiple except blocks to handle different types of exceptions"
      ],
      "metadata": {
        "id": "DjttfyX-vgn6"
      }
    },
    {
      "cell_type": "code",
      "source": [
        "def perform_operations(list_of_numbers, index):\n",
        "    try:\n",
        "        numerator = list_of_numbers[index]\n",
        "        result = 100 / numerator\n",
        "        print(f\"The result of 100 / {numerator} is: {result}\")\n",
        "\n",
        "    except IndexError:\n",
        "        print(\"Error: Index is out of range.\")\n",
        "\n",
        "    except ZeroDivisionError:\n",
        "        print(\"Error: Cannot divide by zero.\")\n",
        "\n",
        "    except TypeError:\n",
        "        print(\"Error: Invalid data type in the list.\")\n",
        "\n",
        "    except Exception as e:\n",
        "         print(f\"An unexpected error occurred: {e}\")\n",
        "\n",
        "\n",
        "numbers = [10, 0, 'a', 5]\n",
        "perform_operations(numbers, 0)\n",
        "perform_operations(numbers, 1)\n",
        "perform_operations(numbers, 2)\n",
        "perform_operations(numbers, 4)"
      ],
      "metadata": {
        "colab": {
          "base_uri": "https://localhost:8080/"
        },
        "id": "I1KvpRvQdiml",
        "outputId": "5286acfe-18fd-4c46-8dfa-ab9f8bc7aff7"
      },
      "execution_count": 16,
      "outputs": [
        {
          "output_type": "stream",
          "name": "stdout",
          "text": [
            "The result of 100 / 10 is: 10.0\n",
            "Error: Cannot divide by zero.\n",
            "Error: Invalid data type in the list.\n",
            "Error: Index is out of range.\n"
          ]
        }
      ]
    },
    {
      "cell_type": "markdown",
      "source": [
        "# 13.How would you check if a file exists before attempting to read it in Python"
      ],
      "metadata": {
        "id": "FQv_a6wovgg-"
      }
    },
    {
      "cell_type": "code",
      "source": [
        "import os\n",
        "file_path = \"path/to/your/file.txt\"\n",
        "if os.path.exists(file_path):\n",
        "    with open(file_path, 'r') as file:\n",
        "\n",
        "        content = file.read()\n",
        "        print(content)\n",
        "else:\n",
        "    print(f\"File '{file_path}' does not exist.\")"
      ],
      "metadata": {
        "colab": {
          "base_uri": "https://localhost:8080/"
        },
        "id": "VOlmRLpxdiHJ",
        "outputId": "bae7b635-6aa4-499f-d347-6f0df8b4a7d5"
      },
      "execution_count": 35,
      "outputs": [
        {
          "output_type": "stream",
          "name": "stdout",
          "text": [
            "File 'path/to/your/file.txt' does not exist.\n"
          ]
        }
      ]
    },
    {
      "cell_type": "markdown",
      "source": [
        "# 14.Write a program that uses the logging module to log both informational and error messagesF"
      ],
      "metadata": {
        "id": "0-S4EW9TvgZ-"
      }
    },
    {
      "cell_type": "code",
      "source": [
        "import logging\n",
        "\n",
        "logging.basicConfig(filename='example.log', level=logging.INFO,\n",
        "                    format='%(asctime)s - %(levelname)s - %(message)s')\n",
        "\n",
        "def divide(x, y):\n",
        "  \"\"\"Divides two numbers and logs the operation.\"\"\"\n",
        "  logging.info(f\"Dividing {x} by {y}\")\n",
        "  try:\n",
        "    result = x / y\n",
        "  except ZeroDivisionError:\n",
        "    logging.error(f\"Attempted to divide {x} by zero\")\n",
        "    return None\n",
        "  else:\n",
        "    return result\n",
        "\n",
        "\n",
        "num1 = 10\n",
        "num2 = 2\n",
        "result = divide(num1, num2)\n",
        "if result is not None:\n",
        "  logging.info(f\"Result of division: {result}\")\n",
        "\n",
        "num3 = 5\n",
        "num4 = 0\n",
        "result = divide(num3, num4)\n",
        "if result is None:\n",
        "  logging.warning(\"Division failed\")\n"
      ],
      "metadata": {
        "colab": {
          "base_uri": "https://localhost:8080/"
        },
        "id": "UiZMRR1Xdh6F",
        "outputId": "d67daf60-fe03-4483-d16c-ae38bbe86a42"
      },
      "execution_count": 36,
      "outputs": [
        {
          "output_type": "stream",
          "name": "stderr",
          "text": [
            "ERROR:root:Attempted to divide 5 by zero\n",
            "WARNING:root:Division failed\n"
          ]
        }
      ]
    },
    {
      "cell_type": "markdown",
      "source": [
        "# 15.Write a Python program that prints the content of a file and handles the case when the file is empty"
      ],
      "metadata": {
        "id": "ScNLP3HFvgTm"
      }
    },
    {
      "cell_type": "code",
      "source": [
        "def print_file_content(file_path):\n",
        "    \"\"\"\n",
        "    Prints the content of a file.\n",
        "    Handles the case when the file is empty.\n",
        "    \"\"\"\n",
        "    try:\n",
        "        with open(file_path, 'r') as file:\n",
        "            content = file.read()\n",
        "            if not content:\n",
        "                print(\"The file is empty.\")\n",
        "            else:\n",
        "                print(content)\n",
        "    except FileNotFoundError:\n",
        "        print(f\"Error: File not found: {file_path}\")\n",
        "    except Exception as e:\n",
        "        print(f\"An error occurred: {e}\")\n",
        "\n",
        "\n",
        "file_path = \"my_file.txt\"\n",
        "\n",
        "\n",
        "with open(file_path, 'w') as f:\n",
        "    pass\n",
        "\n",
        "print(\"--- Printing content of an empty file ---\")\n",
        "print_file_content(file_path)\n",
        "\n",
        "\n",
        "with open(file_path, 'w') as f:\n",
        "    f.write(\"Hello, World!\\nThis is a test file.\")\n",
        "\n",
        "print(\"\\n--- Printing content of a file with content ---\")\n",
        "print_file_content(file_path)\n",
        "\n",
        "\n",
        "print(\"\\n--- Printing content of a non-existent file ---\")\n",
        "print_file_content(\"non_existent_file.txt\")"
      ],
      "metadata": {
        "colab": {
          "base_uri": "https://localhost:8080/"
        },
        "id": "jibh8iqZdhQj",
        "outputId": "f0a2d40b-b5a2-4baf-b36c-a9f4bea5edf7"
      },
      "execution_count": 20,
      "outputs": [
        {
          "output_type": "stream",
          "name": "stdout",
          "text": [
            "--- Printing content of an empty file ---\n",
            "The file is empty.\n",
            "\n",
            "--- Printing content of a file with content ---\n",
            "Hello, World!\n",
            "This is a test file.\n",
            "\n",
            "--- Printing content of a non-existent file ---\n",
            "Error: File not found: non_existent_file.txt\n"
          ]
        }
      ]
    },
    {
      "cell_type": "markdown",
      "source": [
        " # 16.Demonstrate how to use memory profiling to check the memory usage of a small program"
      ],
      "metadata": {
        "id": "44rwsm7OvgMQ"
      }
    },
    {
      "cell_type": "code",
      "source": [
        "!pip install memory_profiler\n",
        "import memory_profiler\n",
        "import time\n",
        "\n",
        "@memory_profiler.profile\n",
        "def create_and_remove_list():\n",
        "\n",
        "    a = [0] * 1000000\n",
        "\n",
        "    time.sleep(0.1)\n",
        "\n",
        "    del a\n",
        "    print(\"List created and deleted.\")\n",
        "\n",
        "create_and_remove_list()"
      ],
      "metadata": {
        "colab": {
          "base_uri": "https://localhost:8080/"
        },
        "id": "n6rM_3Epdg3v",
        "outputId": "ea389caf-00ac-4b88-90a0-8dc6f0a588d2"
      },
      "execution_count": 37,
      "outputs": [
        {
          "output_type": "stream",
          "name": "stdout",
          "text": [
            "Requirement already satisfied: memory_profiler in /usr/local/lib/python3.11/dist-packages (0.61.0)\n",
            "Requirement already satisfied: psutil in /usr/local/lib/python3.11/dist-packages (from memory_profiler) (5.9.5)\n",
            "ERROR: Could not find file <ipython-input-37-55dd1c42eca3>\n",
            "NOTE: %mprun can only be used on functions defined in physical files, and not in the IPython environment.\n",
            "List created and deleted.\n"
          ]
        }
      ]
    },
    {
      "cell_type": "markdown",
      "source": [
        "# 17.Write a Python program to create and write a list of numbers to a file, one number per line"
      ],
      "metadata": {
        "id": "xvJZfXz9vgFU"
      }
    },
    {
      "cell_type": "code",
      "source": [
        "def write_numbers_to_file(filename, numbers):\n",
        "    \"\"\"Writes a list of numbers to a file, one number per line.\n",
        "\n",
        "    Args:\n",
        "        filename: The name of the file to write to.\n",
        "        numbers: A list of numbers.\n",
        "    \"\"\"\n",
        "    with open(filename, 'w') as file:\n",
        "        for number in numbers:\n",
        "            file.write(str(number) + '\\n')\n",
        "\n",
        "numbers = [10, 20, 30, 40, 50]\n",
        "filename = \"numbers.txt\"\n",
        "write_numbers_to_file(filename, numbers)\n",
        "\n",
        "with open(filename, 'r') as file:\n",
        "    print(file.read())"
      ],
      "metadata": {
        "colab": {
          "base_uri": "https://localhost:8080/"
        },
        "id": "Wwf-ldTAdgJ7",
        "outputId": "50e918d9-8852-40c2-9e0f-e2fff6b033ec"
      },
      "execution_count": 38,
      "outputs": [
        {
          "output_type": "stream",
          "name": "stdout",
          "text": [
            "10\n",
            "20\n",
            "30\n",
            "40\n",
            "50\n",
            "\n"
          ]
        }
      ]
    },
    {
      "cell_type": "markdown",
      "source": [
        "# 18.How would you implement a basic logging setup that logs to a file with rotation after 1MB"
      ],
      "metadata": {
        "id": "iWfzZ5O6vf-Q"
      }
    },
    {
      "cell_type": "code",
      "source": [
        "import logging\n",
        "from logging.handlers import RotatingFileHandler\n",
        "\n",
        "log_file = \"app.log\"\n",
        "log_level = logging.DEBUG\n",
        "log_max_bytes = 1024 * 1024\n",
        "log_backup_count = 5\n",
        "\n",
        "logger = logging.getLogger(__name__)\n",
        "logger.setLevel(log_level)\n",
        "\n",
        "formatter = logging.Formatter(\"%(asctime)s - %(levelname)s - %(message)s\")\n",
        "\n",
        "handler = RotatingFileHandler(\n",
        "    log_file, maxBytes=log_max_bytes, backupCount=log_backup_count\n",
        ")\n",
        "handler.setFormatter(formatter)\n",
        "\n",
        "logger.addHandler(handler)\n",
        "\n",
        "logger.debug(\"This is a debug message\")\n",
        "logger.info(\"This is an info message\")\n",
        "logger.warning(\"This is a warning message\")\n",
        "logger.error(\"This is an error message\")\n",
        "logger.critical(\"This is a critical message\")"
      ],
      "metadata": {
        "colab": {
          "base_uri": "https://localhost:8080/"
        },
        "id": "z9F2atL2dfwD",
        "outputId": "096ad1a5-609c-45a7-a11c-55f043625c06"
      },
      "execution_count": 39,
      "outputs": [
        {
          "output_type": "stream",
          "name": "stderr",
          "text": [
            "2025-05-15 10:52:17,496 - DEBUG - __main__ - This is a debug message\n",
            "DEBUG:__main__:This is a debug message\n",
            "2025-05-15 10:52:17,504 - INFO - __main__ - This is an info message\n",
            "INFO:__main__:This is an info message\n",
            "2025-05-15 10:52:17,510 - WARNING - __main__ - This is a warning message\n",
            "WARNING:__main__:This is a warning message\n",
            "2025-05-15 10:52:17,512 - ERROR - __main__ - This is an error message\n",
            "ERROR:__main__:This is an error message\n",
            "2025-05-15 10:52:17,515 - CRITICAL - __main__ - This is a critical message\n",
            "CRITICAL:__main__:This is a critical message\n"
          ]
        }
      ]
    },
    {
      "cell_type": "markdown",
      "source": [
        "# 19.Write a program that handles both IndexError and KeyError using a try-except block"
      ],
      "metadata": {
        "id": "BV3CGLAPvf3Y"
      }
    },
    {
      "cell_type": "code",
      "source": [
        "data = {'a': 1, 'b': 2, 'c': 3}\n",
        "my_list = [10, 20, 30]\n",
        "\n",
        "try:\n",
        "\n",
        "    value = data['d']\n",
        "    print(value)\n",
        "\n",
        "\n",
        "    item = my_list[5]\n",
        "    print(item)\n",
        "\n",
        "except (KeyError, IndexError) as e:\n",
        "    print(f\"An error occurred: {e}\")"
      ],
      "metadata": {
        "colab": {
          "base_uri": "https://localhost:8080/"
        },
        "id": "Uz5mpxHqdfdZ",
        "outputId": "6d0fbecf-ebc8-4154-9bac-5e7812c25896"
      },
      "execution_count": 40,
      "outputs": [
        {
          "output_type": "stream",
          "name": "stdout",
          "text": [
            "An error occurred: 'd'\n"
          ]
        }
      ]
    },
    {
      "cell_type": "markdown",
      "source": [
        "# 20.How would you open a file and read its contents using a context manager in Python"
      ],
      "metadata": {
        "id": "75PamwUPvfwQ"
      }
    },
    {
      "cell_type": "code",
      "source": [
        "file_path = 'example.txt'\n",
        "\n",
        "with open(file_path, 'r') as file:\n",
        "    file_content = file.read()\n",
        "    print(file_content)"
      ],
      "metadata": {
        "colab": {
          "base_uri": "https://localhost:8080/"
        },
        "id": "dJQRXjrvdfIl",
        "outputId": "abb65caa-477e-4ccc-d671-e5aa82bd6ed7"
      },
      "execution_count": 33,
      "outputs": [
        {
          "output_type": "stream",
          "name": "stdout",
          "text": [
            "This is the new content to be added.\n",
            "\n"
          ]
        }
      ]
    },
    {
      "cell_type": "markdown",
      "source": [
        "# 21.Write a Python program that reads a file and prints the number of occurrences of a specific word"
      ],
      "metadata": {
        "id": "sjfIV3IKvfpY"
      }
    },
    {
      "cell_type": "code",
      "source": [
        "def count_word_occurrences(filepath, word):\n",
        "    \"\"\"\n",
        "    Counts the number of times a specific word appears in a file.\n",
        "\n",
        "    Args:\n",
        "        filepath (str): The path to the file.\n",
        "        word (str): The word to search for.\n",
        "\n",
        "    Returns:\n",
        "        int: The number of occurrences of the word in the file.\n",
        "    \"\"\"\n",
        "    try:\n",
        "        with open(filepath, 'r') as file:\n",
        "            content = file.read().lower()\n",
        "            return content.count(word.lower())\n",
        "    except FileNotFoundError:\n",
        "        return f\"Error: File not found: {filepath}\"\n",
        "\n",
        "\n",
        "filepath = \"my_text_file.txt\"\n",
        "word_to_count = \"example\"\n",
        "\n",
        "\n",
        "with open(filepath, 'w') as f:\n",
        "    f.write(\"This is an example file. It contains the word example multiple times. Example example.\")\n",
        "\n",
        "count = count_word_occurrences(filepath, word_to_count)\n",
        "print(f\"The word '{word_to_count}' appears {count} times in the file.\")"
      ],
      "metadata": {
        "colab": {
          "base_uri": "https://localhost:8080/"
        },
        "id": "VtKH3K09debt",
        "outputId": "20963507-7dcb-4afa-d31d-fb6d154019e6"
      },
      "execution_count": 41,
      "outputs": [
        {
          "output_type": "stream",
          "name": "stdout",
          "text": [
            "The word 'example' appears 4 times in the file.\n"
          ]
        }
      ]
    },
    {
      "cell_type": "markdown",
      "source": [
        "# 22.How can you check if a file is empty before attempting to read its contents"
      ],
      "metadata": {
        "id": "QI1gG8rivfh4"
      }
    },
    {
      "cell_type": "code",
      "source": [
        "import os\n",
        "\n",
        "def is_file_empty(file_path):\n",
        "    \"\"\"Checks if a file is empty using os.path.getsize().\n",
        "\n",
        "    Args:\n",
        "        file_path: The path to the file.\n",
        "\n",
        "    Returns:\n",
        "        True if the file is empty, False otherwise.\n",
        "    \"\"\"\n",
        "    return os.path.getsize(file_path) == 0\n",
        "\n",
        "file_path = \"my_file.txt\"\n",
        "\n",
        "with open(file_path, \"w\") as f:\n",
        "    pass\n",
        "\n",
        "if is_file_empty(file_path):\n",
        "    print(f\"The file '{file_path}' is empty.\")\n",
        "else:\n",
        "    print(f\"The file '{file_path}' is not empty.\")\n",
        "    with open(file_path, \"r\") as f:\n",
        "        content = f.read()\n",
        "        print(f\"File content:\\n{content}\")\n",
        "\n",
        "with open(file_path, \"w\") as f:\n",
        "    f.write(\"Some content\")\n",
        "\n",
        "if is_file_empty(file_path):\n",
        "    print(f\"The file '{file_path}' is empty.\")\n",
        "else:\n",
        "    print(f\"The file '{file_path}' is not empty.\")\n",
        "    with open(file_path, \"r\") as f:\n",
        "        content = f.read()\n",
        "        print(f\"File content:\\n{content}\")"
      ],
      "metadata": {
        "colab": {
          "base_uri": "https://localhost:8080/"
        },
        "id": "FBdTBY2SdeA1",
        "outputId": "cfea4871-60e3-43f2-d822-385b51f8b448"
      },
      "execution_count": 42,
      "outputs": [
        {
          "output_type": "stream",
          "name": "stdout",
          "text": [
            "The file 'my_file.txt' is empty.\n",
            "The file 'my_file.txt' is not empty.\n",
            "File content:\n",
            "Some content\n"
          ]
        }
      ]
    },
    {
      "cell_type": "markdown",
      "source": [
        "# 23.Write a Python program that writes to a log file when an error occurs during file handling"
      ],
      "metadata": {
        "id": "iC2Wmncgvfa4"
      }
    },
    {
      "cell_type": "code",
      "execution_count": 43,
      "metadata": {
        "id": "5r2AEKVLvcNd",
        "colab": {
          "base_uri": "https://localhost:8080/"
        },
        "outputId": "1a6ef124-042a-4801-cd5a-70119dac5e56"
      },
      "outputs": [
        {
          "output_type": "stream",
          "name": "stderr",
          "text": [
            "ERROR:root:File not found error: [Errno 2] No such file or directory: 'nonexistent_file.txt'\n",
            "ERROR:root:IOError occurred: not readable\n"
          ]
        },
        {
          "output_type": "stream",
          "name": "stdout",
          "text": [
            "File handling attempt complete. Check the log file for errors.\n"
          ]
        }
      ],
      "source": [
        "import logging\n",
        "\n",
        "logging.basicConfig(filename='file_handling_errors.log', level=logging.ERROR,\n",
        "                    format='%(asctime)s - %(levelname)s - %(message)s')\n",
        "\n",
        "try:\n",
        "\n",
        "    with open('nonexistent_file.txt', 'r') as file:\n",
        "        content = file.read()\n",
        "        print(content)\n",
        "\n",
        "except FileNotFoundError as e:\n",
        "    logging.error(f\"File not found error: {e}\")\n",
        "\n",
        "except Exception as e:\n",
        "    logging.error(f\"An unexpected error occurred: {e}\")\n",
        "\n",
        "try:\n",
        "    with open('sample.txt', 'w') as file:\n",
        "        file.write(\"Hello, world!\")\n",
        "        file.read()\n",
        "\n",
        "except IOError as e:\n",
        "\n",
        "    logging.error(f\"IOError occurred: {e}\")\n",
        "\n",
        "finally:\n",
        "    print(\"File handling attempt complete. Check the log file for errors.\")"
      ]
    }
  ]
}